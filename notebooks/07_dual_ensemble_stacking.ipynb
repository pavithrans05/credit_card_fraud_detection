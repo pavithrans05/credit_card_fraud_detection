{
 "cells": [
  {
   "cell_type": "markdown",
   "id": "b1c76247",
   "metadata": {},
   "source": [
    "# Dual-Dataset Approach - Ensemble Learning / Meta-Learning"
   ]
  },
  {
   "cell_type": "code",
   "execution_count": 1,
   "id": "7bc5bce5",
   "metadata": {},
   "outputs": [],
   "source": [
    "# Import necessary libraries\n",
    "import pandas as pd\n",
    "import numpy as np\n",
    "import matplotlib.pyplot as plt\n",
    "import seaborn as sns\n",
    "import joblib  # For loading/saving models and data\n",
    "from pathlib import Path  # For robust file path handling\n",
    "from sklearn.preprocessing import StandardScaler\n",
    "from sklearn.model_selection import train_test_split\n",
    "from sklearn.linear_model import LogisticRegression  # Base models & Meta-model\n",
    "from sklearn.ensemble import RandomForestClassifier\n",
    "from xgboost import XGBClassifier\n",
    "from sklearn.metrics import classification_report, confusion_matrix, roc_auc_score, precision_recall_curve, auc, f1_score, precision_score, recall_score"
   ]
  },
  {
   "cell_type": "code",
   "execution_count": 2,
   "id": "a557e4f8",
   "metadata": {},
   "outputs": [],
   "source": [
    "# Set plotting style\n",
    "sns.set_style(\"whitegrid\")\n",
    "plt.rcParams['figure.figsize'] = (10, 6)  # Default figure size for plots"
   ]
  },
  {
   "cell_type": "code",
   "execution_count": 3,
   "id": "39e89c7d",
   "metadata": {},
   "outputs": [],
   "source": [
    "# Define a random state for reproducibility\n",
    "RANDOM_STATE = 42\n",
    "np.random.seed(RANDOM_STATE)"
   ]
  },
  {
   "cell_type": "markdown",
   "id": "0bce79e7",
   "metadata": {},
   "source": [
    "Define Evaluation Function"
   ]
  },
  {
   "cell_type": "code",
   "execution_count": 4,
   "id": "8edfac74",
   "metadata": {},
   "outputs": [],
   "source": [
    "# --- 1. Define Evaluation Function ---\n",
    "# Copying the evaluation function from previous phases for consistency.\n",
    "# In a real project, this would ideally be in a 'scripts/' folder and imported.\n",
    "def evaluate_model(model, X_test, y_test, model_name, strategy_name, results_list):\n",
    "    \"\"\"\n",
    "    Evaluates a trained classification model and prints key metrics,\n",
    "    plots the Precision-Recall curve, and stores results.\n",
    "    \n",
    "    Args:\n",
    "        model: Trained scikit-learn compatible classifier.\n",
    "        X_test: Test features.\n",
    "        y_test: True test labels.\n",
    "        model_name (str): Name of the model.\n",
    "        strategy_name (str): Description of the evaluation strategy.\n",
    "        results_list (list): List to append model results.\n",
    "    \"\"\"\n",
    "    print(f\"--- Evaluating {model_name} ({strategy_name}) ---\")\n",
    "    y_pred = model.predict(X_test)\n",
    "    y_pred_proba = model.predict_proba(X_test)[:, 1]\n",
    "    \n",
    "    print(\"\\nClassification Report:\")\n",
    "    print(classification_report(y_test, y_pred, zero_division=0))  # Added zero_division=0 for cleaner output\n",
    "    \n",
    "    cm = confusion_matrix(y_test, y_pred)\n",
    "    print(\"\\nConfusion Matrix:\")\n",
    "    print(cm)\n",
    "    \n",
    "    plt.figure(figsize=(6, 5))\n",
    "    sns.heatmap(cm, annot=True, fmt='d', cmap='Blues', cbar=False,\n",
    "                xticklabels=['Predicted 0', 'Predicted 1'],\n",
    "                yticklabels=['Actual 0', 'Actual 1'])\n",
    "    plt.title(f'Confusion Matrix: {model_name} ({strategy_name})')\n",
    "    plt.xlabel('Predicted Label')\n",
    "    plt.ylabel('True Label')\n",
    "    plt.tight_layout()\n",
    "    plt.show()\n",
    "    \n",
    "    roc_auc = roc_auc_score(y_test, y_pred_proba)\n",
    "    print(f\"\\nROC AUC Score: {roc_auc:.4f}\")\n",
    "    \n",
    "    precision, recall, _ = precision_recall_curve(y_test, y_pred_proba)\n",
    "    pr_auc = auc(recall, precision)\n",
    "    print(f\"Precision-Recall AUC (AUPRC): {pr_auc:.4f}\")\n",
    "    \n",
    "    plt.figure(figsize=(8, 6))\n",
    "    plt.plot(recall, precision, color='darkorange', lw=2,\n",
    "             label=f'PR curve (area = {pr_auc:.2f})')\n",
    "    plt.xlabel('Recall (Fraud)')\n",
    "    plt.ylabel('Precision (Fraud)')\n",
    "    plt.title(f'Precision-Recall Curve: {model_name} ({strategy_name})')\n",
    "    plt.legend(loc=\"lower left\")\n",
    "    plt.grid(True)\n",
    "    plt.tight_layout()\n",
    "    plt.show()\n",
    "    \n",
    "    metrics = {\n",
    "        'Model': model_name,\n",
    "        'Strategy': strategy_name,\n",
    "        'Accuracy': (cm[0,0] + cm[1,1]) / np.sum(cm),\n",
    "        'Precision (Fraud)': precision_score(y_test, y_pred, pos_label=1, zero_division=0),\n",
    "        'Recall (Fraud)': recall_score(y_test, y_pred, pos_label=1, zero_division=0),\n",
    "        'F1-Score (Fraud)': f1_score(y_test, y_pred, pos_label=1, zero_division=0),\n",
    "        'ROC AUC': roc_auc,\n",
    "        'AUPRC': pr_auc,\n",
    "        'True Positives (TP)': cm[1,1],\n",
    "        'False Positives (FP)': cm[0,1],\n",
    "        'False Negatives (FN)': cm[1,0]\n",
    "    }\n",
    "    \n",
    "    results_list.append(metrics)\n",
    "    print(\"\\n\" + \"=\"*80 + \"\\n\")\n",
    "\n",
    "# Initialize a list to store results for Phase 5\n",
    "ensemble_results = []"
   ]
  },
  {
   "cell_type": "markdown",
   "id": "2224d6c5",
   "metadata": {},
   "source": [
    "## Load Preprocessed Data & Base Models"
   ]
  },
  {
   "cell_type": "code",
   "execution_count": 5,
   "id": "330c3f8f",
   "metadata": {},
   "outputs": [
    {
     "name": "stdout",
     "output_type": "stream",
     "text": [
      "--- Phase 5, Step 1: Loading Preprocessed Data & Base Models ---\n"
     ]
    }
   ],
   "source": [
    "# --- Step 1: Load Preprocessed Data & Base Models ---\n",
    "print(\"--- Phase 5, Step 1: Loading Preprocessed Data & Base Models ---\")\n",
    "\n",
    "# Define data and model directories using Path for robust file handling\n",
    "data_dir = Path('../data')\n",
    "model_dir = Path('../data')"
   ]
  },
  {
   "cell_type": "markdown",
   "id": "bf43ad62",
   "metadata": {},
   "source": [
    "Load 2013 Preprocessed Data (from Phase 3 setup, commom features scaled by 2013 scalar)"
   ]
  },
  {
   "cell_type": "code",
   "execution_count": 6,
   "id": "994a8ca4",
   "metadata": {},
   "outputs": [
    {
     "name": "stdout",
     "output_type": "stream",
     "text": [
      "\n",
      "--- 1.1 Loading 2013 Preprocessed Data ---\n",
      "2013 preprocessed data loaded successfully.\n",
      "X_train_2013_scaled shape: (227845, 29)\n",
      "X_test_2013_scaled shape: (56962, 29)\n",
      "y_train_2013 shape: (227845,)\n",
      "y_test_2013 shape: (56962,)\n",
      "X_2023_scaled_for_drift_test shape: (568630, 29)\n",
      "2013 Class Distribution (y_test_2013):\n",
      "Class\n",
      "0    0.99828\n",
      "1    0.00172\n",
      "Name: proportion, dtype: float64\n"
     ]
    }
   ],
   "source": [
    "# 1.1 Load 2013 Preprocessed Data (from Phase 3 setup, common features scaled by 2013 scaler)\n",
    "print(\"\\n--- 1.1 Loading 2013 Preprocessed Data ---\")\n",
    "try:\n",
    "    loaded_phase3_data = joblib.load(data_dir / 'preprocessed_data_phase3.pkl')\n",
    "    X_train_2013_scaled = loaded_phase3_data['X_train_2013_scaled']\n",
    "    X_test_2013_scaled = loaded_phase3_data['X_test_2013_scaled']\n",
    "    y_train_2013 = loaded_phase3_data['y_train_2013']\n",
    "    y_test_2013 = loaded_phase3_data['y_test_2013']\n",
    "    X_2023_scaled_for_drift_test = loaded_phase3_data['X_2023_scaled_for_drift_test']  # 2023 data scaled by 2013 scaler\n",
    "    \n",
    "    # Also need the original raw common features for 2013 to apply 2023 scaler in next step\n",
    "    df_2013_raw = pd.read_csv(data_dir / 'creditcard.csv')\n",
    "    common_features = [f'V{i}' for i in range(1, 29)] + ['Amount']\n",
    "    X_2013_common_raw_full = df_2013_raw[common_features]\n",
    "    \n",
    "    print(\"2013 preprocessed data loaded successfully.\")\n",
    "    print(f\"X_train_2013_scaled shape: {X_train_2013_scaled.shape}\")\n",
    "    print(f\"X_test_2013_scaled shape: {X_test_2013_scaled.shape}\")\n",
    "    print(f\"y_train_2013 shape: {y_train_2013.shape}\")\n",
    "    print(f\"y_test_2013 shape: {y_test_2013.shape}\")\n",
    "    print(f\"X_2023_scaled_for_drift_test shape: {X_2023_scaled_for_drift_test.shape}\")\n",
    "    print(f\"2013 Class Distribution (y_test_2013):\")\n",
    "    print(pd.Series(y_test_2013).value_counts(normalize=True))\n",
    "except FileNotFoundError:\n",
    "    print(f\"Error: 2013 preprocessed data files not found. Ensure '{data_dir / 'preprocessed_data_phase3.pkl'}' exists.\")\n",
    "    exit()\n",
    "except KeyError as e:\n",
    "    print(f\"Error: Missing key in preprocessed_data_phase3.pkl: {e}\")\n",
    "    exit()\n",
    "except Exception as e:\n",
    "    print(f\"Unexpected error while loading 2013 data: {e}\")\n",
    "    exit()"
   ]
  },
  {
   "cell_type": "markdown",
   "id": "2d6d3c04",
   "metadata": {},
   "source": [
    "Load 2023 Preprocessed Data (from Phase 2 setup, commom features scaled by 2023 scalar)"
   ]
  },
  {
   "cell_type": "code",
   "execution_count": 7,
   "id": "288445d5",
   "metadata": {},
   "outputs": [
    {
     "name": "stdout",
     "output_type": "stream",
     "text": [
      "\n",
      "--- 1.2 Loading 2023 Preprocessed Data ---\n",
      "Note: preprocessed_data_2023.pkl is a tuple/list. Accessing by indices.\n",
      "Warning: scaler_2023.pkl not found. Using scaler_combined.pkl as fallback.\n",
      "Fallback scaler (scaler_combined.pkl) loaded successfully.\n",
      "2023 preprocessed data loaded successfully.\n",
      "X_train_2023_orig_scaled shape: (454904, 29)\n",
      "X_test_2023_orig_scaled shape: (113726, 29)\n",
      "y_train_2023_orig shape: (454904,)\n",
      "y_test_2023_orig shape: (113726,)\n",
      "2023 Class Distribution (y_test_2023_orig):\n",
      "Class\n",
      "1    0.5\n",
      "0    0.5\n",
      "Name: proportion, dtype: float64\n"
     ]
    }
   ],
   "source": [
    "# 1.2 Load 2023 Preprocessed Data (from Phase 2 setup, common features scaled by 2023 scaler)\n",
    "print(\"\\n--- 1.2 Loading 2023 Preprocessed Data ---\")\n",
    "try:\n",
    "    loaded_phase2_data = joblib.load(data_dir / 'preprocessed_data_2023.pkl')\n",
    "    \n",
    "    # Check if loaded_phase2_data is a tuple/list and access by indices\n",
    "    if isinstance(loaded_phase2_data, (list, tuple)):\n",
    "        print(\"Note: preprocessed_data_2023.pkl is a tuple/list. Accessing by indices.\")\n",
    "        X_train_2023_orig_scaled = loaded_phase2_data[0]\n",
    "        X_test_2023_orig_scaled = loaded_phase2_data[1]\n",
    "        y_train_2023_orig = loaded_phase2_data[2]\n",
    "        y_test_2023_orig = loaded_phase2_data[3]\n",
    "    else:\n",
    "        print(\"Note: preprocessed_data_2023.pkl is a dictionary. Accessing by keys.\")\n",
    "        X_train_2023_orig_scaled = loaded_phase2_data['X_train_2023_orig_scaled']\n",
    "        X_test_2023_orig_scaled = loaded_phase2_data['X_test_2023_orig_scaled']\n",
    "        y_train_2023_orig = loaded_phase2_data['y_train_2023_orig']\n",
    "        y_test_2023_orig = loaded_phase2_data['y_test_2023_orig']\n",
    "    \n",
    "    # Load 2023 scaler for transforming 2013 data for 2023 model\n",
    "    try:\n",
    "        scaler_2023 = joblib.load(data_dir / 'scaler_2023.pkl')  # Prefer Phase 2-specific scaler if available\n",
    "        print(\"2023 scaler (scaler_2023.pkl) loaded successfully.\")\n",
    "    except FileNotFoundError:\n",
    "        print(\"Warning: scaler_2023.pkl not found. Using scaler_combined.pkl as fallback.\")\n",
    "        try:\n",
    "            scaler_2023 = joblib.load(data_dir / 'scaler_combined.pkl')  # Fallback to combined scaler\n",
    "            print(\"Fallback scaler (scaler_combined.pkl) loaded successfully.\")\n",
    "        except FileNotFoundError:\n",
    "            print(f\"Error: Neither scaler_2023.pkl nor scaler_combined.pkl found in {data_dir}. Please provide a valid scaler file.\")\n",
    "            exit()\n",
    "    \n",
    "    print(\"2023 preprocessed data loaded successfully.\")\n",
    "    print(f\"X_train_2023_orig_scaled shape: {X_train_2023_orig_scaled.shape}\")\n",
    "    print(f\"X_test_2023_orig_scaled shape: {X_test_2023_orig_scaled.shape}\")\n",
    "    print(f\"y_train_2023_orig shape: {y_train_2023_orig.shape}\")\n",
    "    print(f\"y_test_2023_orig shape: {y_test_2023_orig.shape}\")\n",
    "    print(f\"2023 Class Distribution (y_test_2023_orig):\")\n",
    "    print(pd.Series(y_test_2023_orig).value_counts(normalize=True))\n",
    "except FileNotFoundError:\n",
    "    print(f\"Error: 2023 preprocessed data files not found. Ensure '{data_dir / 'preprocessed_data_2023.pkl'}' exists.\")\n",
    "    exit()\n",
    "except IndexError as e:\n",
    "    print(f\"Error: Invalid index access in preprocessed_data_2023.pkl. Expected a tuple with at least 4 elements: {e}\")\n",
    "    exit()\n",
    "except Exception as e:\n",
    "    print(f\"Unexpected error while loading 2023 data: {e}\")\n",
    "    exit()"
   ]
  },
  {
   "cell_type": "markdown",
   "id": "40aa345c",
   "metadata": {},
   "source": [
    "Load 2013-Trained Base Model (XGBoost)"
   ]
  },
  {
   "cell_type": "code",
   "execution_count": 8,
   "id": "94f42339",
   "metadata": {},
   "outputs": [
    {
     "name": "stdout",
     "output_type": "stream",
     "text": [
      "\n",
      "--- 1.3 Loading 2013-Trained Base Model ---\n",
      "2013-trained XGBoost model loaded successfully:\n",
      "XGBClassifier(base_score=None, booster=None, callbacks=None,\n",
      "              colsample_bylevel=None, colsample_bynode=None,\n",
      "              colsample_bytree=None, device=None, early_stopping_rounds=None,\n",
      "              enable_categorical=False, eval_metric='logloss',\n",
      "              feature_types=None, feature_weights=None, gamma=None,\n",
      "              grow_policy=None, importance_type=None,\n",
      "              interaction_constraints=None, learning_rate=None, max_bin=None,\n",
      "              max_cat_threshold=None, max_cat_to_onehot=None,\n",
      "              max_delta_step=None, max_depth=None, max_leaves=None,\n",
      "              min_child_weight=None, missing=nan, monotone_constraints=None,\n",
      "              multi_strategy=None, n_estimators=100, n_jobs=-1,\n",
      "              num_parallel_tree=None, ...)\n"
     ]
    }
   ],
   "source": [
    "# 1.3 Load 2013-Trained Base Model (XGBoost)\n",
    "print(\"\\n--- 1.3 Loading 2013-Trained Base Model ---\")\n",
    "try:\n",
    "    xgb_model_2013 = joblib.load(model_dir / 'xgb_model_2013.pkl')\n",
    "    print(\"2013-trained XGBoost model loaded successfully:\")\n",
    "    print(xgb_model_2013)\n",
    "except FileNotFoundError:\n",
    "    print(f\"Error: 2013 XGBoost model not found. Ensure '{model_dir / 'xgb_model_2013.pkl'}' exists.\")\n",
    "    exit()\n",
    "except Exception as e:\n",
    "    print(f\"Unexpected error while loading 2013 XGBoost model: {e}\")\n",
    "    exit()"
   ]
  },
  {
   "cell_type": "markdown",
   "id": "ef26b230",
   "metadata": {},
   "source": [
    "Load 2023-Trainedd Base Model (Random Forest)"
   ]
  },
  {
   "cell_type": "code",
   "execution_count": 9,
   "id": "c1eda968",
   "metadata": {},
   "outputs": [
    {
     "name": "stdout",
     "output_type": "stream",
     "text": [
      "\n",
      "--- 1.4 Loading 2023-Trained Base Model ---\n",
      "2023-trained Random Forest model loaded successfully:\n",
      "RandomForestClassifier(n_jobs=-1, random_state=42)\n"
     ]
    }
   ],
   "source": [
    "# 1.4 Load 2023-Trained Base Model (Random Forest)\n",
    "print(\"\\n--- 1.4 Loading 2023-Trained Base Model ---\")\n",
    "try:\n",
    "    rf_2023_model = joblib.load(model_dir / 'best_model_2023_random_forest_balanced_data.pkl')\n",
    "    print(\"2023-trained Random Forest model loaded successfully:\")\n",
    "    print(rf_2023_model)\n",
    "except FileNotFoundError:\n",
    "    print(f\"Error: 2023 Random Forest model not found. Ensure '{model_dir / 'best_model_2023_random_forest_balanced_data.pkl'}' exists.\")\n",
    "    exit()\n",
    "except Exception as e:\n",
    "    print(f\"Unexpected error while loading 2023 Random Forest model: {e}\")\n",
    "    exit()"
   ]
  },
  {
   "cell_type": "markdown",
   "id": "4fb76045",
   "metadata": {},
   "source": [
    "Print Confirmation"
   ]
  },
  {
   "cell_type": "code",
   "execution_count": 10,
   "id": "fb457c27",
   "metadata": {},
   "outputs": [
    {
     "name": "stdout",
     "output_type": "stream",
     "text": [
      "\n",
      "Step 1 Completed: All preprocessed data and base models loaded successfully.\n",
      "\n",
      "================================================================================\n",
      "\n"
     ]
    }
   ],
   "source": [
    "# 1.5 Print Confirmation\n",
    "print(\"\\nStep 1 Completed: All preprocessed data and base models loaded successfully.\")\n",
    "print(\"\\n\" + \"=\"*80 + \"\\n\")"
   ]
  },
  {
   "cell_type": "code",
   "execution_count": 11,
   "id": "a28bcef2",
   "metadata": {},
   "outputs": [
    {
     "name": "stdout",
     "output_type": "stream",
     "text": [
      "--- Reloading Data and Models (if kernel restarted) ---\n",
      "2023 scaler (scaler_combined.pkl) reloaded as fallback.\n",
      "All data and models reloaded successfully.\n",
      "\n",
      "================================================================================\n",
      "\n"
     ]
    }
   ],
   "source": [
    "# --- Reload data/models if kernel restarted from previous steps ---\n",
    "# This block ensures all necessary variables are available if the notebook was reset.\n",
    "print(\"--- Reloading Data and Models (if kernel restarted) ---\")\n",
    "try:\n",
    "    # Reload 2013 preprocessed data (including X_2023_scaled_for_drift_test)\n",
    "    loaded_phase3_data = joblib.load(data_dir / 'preprocessed_data_phase3.pkl')\n",
    "    X_train_2013_scaled = loaded_phase3_data['X_train_2013_scaled']\n",
    "    X_test_2013_scaled = loaded_phase3_data['X_test_2013_scaled']\n",
    "    y_train_2013 = loaded_phase3_data['y_train_2013']\n",
    "    y_test_2013 = loaded_phase3_data['y_test_2013']\n",
    "    X_2023_scaled_for_drift_test = loaded_phase3_data['X_2023_scaled_for_drift_test']  # 2023 data scaled by 2013 scaler\n",
    "    \n",
    "    # Reload 2023 preprocessed data (original scaling)\n",
    "    loaded_phase2_data = joblib.load(data_dir / 'preprocessed_data_2023.pkl')\n",
    "    X_train_2023_orig_scaled = loaded_phase2_data[0]\n",
    "    X_test_2023_orig_scaled = loaded_phase2_data[1]\n",
    "    y_train_2023_orig = loaded_phase2_data[2]\n",
    "    y_test_2023_orig = loaded_phase2_data[3]\n",
    "    \n",
    "    # Reload 2013 raw common features (needed for 2023 scaler transformation)\n",
    "    df_2013_raw = pd.read_csv(data_dir / 'creditcard.csv')\n",
    "    common_features = [f'V{i}' for i in range(1, 29)] + ['Amount']\n",
    "    X_2013_common_raw_full = df_2013_raw[common_features]\n",
    "    \n",
    "    # Reload scalers\n",
    "    # Try loading scaler_2023.pkl first, then fallback to scaler_combined.pkl\n",
    "    try:\n",
    "        scaler_2023 = joblib.load(data_dir / 'scaler_2023.pkl')\n",
    "        print(\"2023 scaler (scaler_2023.pkl) reloaded.\")\n",
    "    except FileNotFoundError:\n",
    "        scaler_2023 = joblib.load(data_dir / 'scaler_combined.pkl')  # Fallback\n",
    "        print(\"2023 scaler (scaler_combined.pkl) reloaded as fallback.\")\n",
    "    \n",
    "    # Reload base models\n",
    "    xgb_model_2013 = joblib.load(data_dir / 'xgb_model_2013.pkl')\n",
    "    rf_2023_model = joblib.load(data_dir / 'best_model_2023_random_forest_balanced_data.pkl')\n",
    "    \n",
    "    print(\"All data and models reloaded successfully.\")\n",
    "except Exception as e:\n",
    "    print(f\"Error reloading data/models: {e}. Please ensure all previous phases were run correctly and files are saved.\")\n",
    "    exit()\n",
    "print(\"\\n\" + \"=\"*80 + \"\\n\")"
   ]
  },
  {
   "cell_type": "markdown",
   "id": "fd641e45",
   "metadata": {},
   "source": [
    "## Generate Predictions for Meta-Model (Blending Approach)"
   ]
  },
  {
   "cell_type": "code",
   "execution_count": 12,
   "id": "c3d56556",
   "metadata": {},
   "outputs": [
    {
     "name": "stdout",
     "output_type": "stream",
     "text": [
      "--- Phase 5, Step 2: Generating Predictions for Meta-Model ---\n"
     ]
    }
   ],
   "source": [
    "# --- Step 2: Generate Predictions for Meta-Model (Blending Approach) ---\n",
    "print(\"--- Phase 5, Step 2: Generating Predictions for Meta-Model ---\")\n"
   ]
  },
  {
   "cell_type": "markdown",
   "id": "9c3a27f1",
   "metadata": {},
   "source": [
    "Prepare Combined Test Set for Ensemble Evaluation"
   ]
  },
  {
   "cell_type": "code",
   "execution_count": 13,
   "id": "dcf66eb2",
   "metadata": {},
   "outputs": [
    {
     "name": "stdout",
     "output_type": "stream",
     "text": [
      "\n",
      "--- 2.1 Preparing Combined Test Set for Ensemble Evaluation ---\n",
      "Combined ensemble test features shape: (170688, 29)\n",
      "Combined ensemble test target shape: (170688,)\n",
      "Combined ensemble test class distribution:\n",
      "Class\n",
      "0    0.666286\n",
      "1    0.333714\n",
      "Name: proportion, dtype: float64\n",
      "\n",
      "Insight: The combined test set is prepared for final ensemble evaluation, preserving the relative class distribution from the original combined dataset.\n",
      "\n",
      "================================================================================\n",
      "\n"
     ]
    }
   ],
   "source": [
    "# 2.1 Prepare Combined Test Set for Ensemble Evaluation\n",
    "print(\"\\n--- 2.1 Preparing Combined Test Set for Ensemble Evaluation ---\")\n",
    "# This will be the actual test set on which the final ensemble model is evaluated.\n",
    "# It uses the native scaling from each dataset's processing pipeline.\n",
    "try:\n",
    "    # Ensure inputs are DataFrames for pd.concat\n",
    "    X_test_2013_scaled_df = X_test_2013_scaled if isinstance(X_test_2013_scaled, pd.DataFrame) else pd.DataFrame(X_test_2013_scaled, columns=common_features)\n",
    "    X_test_2023_orig_scaled_df = X_test_2023_orig_scaled if isinstance(X_test_2023_orig_scaled, pd.DataFrame) else pd.DataFrame(X_test_2023_orig_scaled, columns=common_features)\n",
    "    \n",
    "    # Concatenate test features from 2013 and 2023 datasets\n",
    "    X_test_combined_ensemble = pd.concat([X_test_2013_scaled_df, X_test_2023_orig_scaled_df], ignore_index=True)\n",
    "    # Concatenate test labels\n",
    "    y_test_combined_ensemble = pd.concat([pd.Series(y_test_2013), pd.Series(y_test_2023_orig)], ignore_index=True)\n",
    "    \n",
    "    print(f\"Combined ensemble test features shape: {X_test_combined_ensemble.shape}\")\n",
    "    print(f\"Combined ensemble test target shape: {y_test_combined_ensemble.shape}\")\n",
    "    print(f\"Combined ensemble test class distribution:\\n{y_test_combined_ensemble.value_counts(normalize=True)}\")\n",
    "    print(\"\\nInsight: The combined test set is prepared for final ensemble evaluation, preserving the relative class distribution from the original combined dataset.\")\n",
    "except Exception as e:\n",
    "    print(f\"Error while creating combined test set: {e}\")\n",
    "    exit()\n",
    "print(\"\\n\" + \"=\"*80 + \"\\n\")\n",
    "\n"
   ]
  },
  {
   "cell_type": "markdown",
   "id": "e4cb5ca0",
   "metadata": {},
   "source": [
    "Generate Predictions from Base Model 1 (2013-trained XGBoost)"
   ]
  },
  {
   "cell_type": "code",
   "execution_count": 14,
   "id": "e7ffe211",
   "metadata": {},
   "outputs": [
    {
     "name": "stdout",
     "output_type": "stream",
     "text": [
      "--- 2.2 Generating Predictions from 2013-trained XGBoost Model ---\n",
      "XGBoost (2013) predictions on 2013 test data generated. Shape: (56962,)\n",
      "XGBoost (2013) predictions on 2023 test data (scaled by 2013 scaler) generated. Shape: (113726,)\n",
      "\n",
      "Insight: XGBoost (2013) has made predictions on both 2013 and 2023 data using its native scaling, as expected for a drift-aware ensemble.\n",
      "\n",
      "================================================================================\n",
      "\n"
     ]
    }
   ],
   "source": [
    "# 2.2 Generate Predictions from Base Model 1 (2013-trained XGBoost)\n",
    "print(\"--- 2.2 Generating Predictions from 2013-trained XGBoost Model ---\")\n",
    "# Model 1 (xgb_model_2013) was trained on 2013 data scaled by 2013 scaler.\n",
    "# So, it expects data to be scaled by the 2013 scaler.\n",
    "try:\n",
    "    # Predict on 2013 Test Data (already scaled by 2013 scaler)\n",
    "    xgb_proba_on_2013_test = xgb_model_2013.predict_proba(X_test_2013_scaled)[:, 1]\n",
    "    print(f\"XGBoost (2013) predictions on 2013 test data generated. Shape: {xgb_proba_on_2013_test.shape}\")\n",
    "    \n",
    "    # Predict on 2023 Test Data (scaled by 2013 scaler, from Phase 3's drift test setup)\n",
    "    # Re-slice X_2023_scaled_for_drift_test to get just the test set part\n",
    "    X_test_2023_scaled_by_2013_scaler_for_ensemble = X_2023_scaled_for_drift_test.loc[y_test_2023_orig.index]\n",
    "    xgb_proba_on_2023_test = xgb_model_2013.predict_proba(X_test_2023_scaled_by_2013_scaler_for_ensemble)[:, 1]\n",
    "    print(f\"XGBoost (2013) predictions on 2023 test data (scaled by 2013 scaler) generated. Shape: {xgb_proba_on_2023_test.shape}\")\n",
    "    print(\"\\nInsight: XGBoost (2013) has made predictions on both 2013 and 2023 data using its native scaling, as expected for a drift-aware ensemble.\")\n",
    "except Exception as e:\n",
    "    print(f\"Error while generating XGBoost predictions: {e}\")\n",
    "    exit()\n",
    "print(\"\\n\" + \"=\"*80 + \"\\n\")\n",
    "\n"
   ]
  },
  {
   "cell_type": "markdown",
   "id": "9e8ee2e0",
   "metadata": {},
   "source": [
    "Generate Predictions from Base Model 2 (2023-trained Random Forest)"
   ]
  },
  {
   "cell_type": "code",
   "execution_count": 15,
   "id": "39aa2547",
   "metadata": {},
   "outputs": [
    {
     "name": "stdout",
     "output_type": "stream",
     "text": [
      "--- 2.3 Generating Predictions from 2023-trained Random Forest Model ---\n",
      "Random Forest (2023) predictions on 2023 test data generated. Shape: (113726,)\n",
      "Random Forest (2023) predictions on 2013 test data (scaled by 2023 scaler) generated. Shape: (56962,)\n",
      "\n",
      "Insight: Random Forest (2023) has made predictions on both 2013 and 2023 data using its native scaling, allowing the meta-model to compare their relative strengths on different data characteristics.\n",
      "\n",
      "================================================================================\n",
      "\n"
     ]
    }
   ],
   "source": [
    "# 2.3 Generate Predictions from Base Model 2 (2023-trained Random Forest)\n",
    "print(\"--- 2.3 Generating Predictions from 2023-trained Random Forest Model ---\")\n",
    "# Model 2 (rf_2023_model) was trained on 2023 data scaled by 2023 scaler.\n",
    "# So, it expects data to be scaled by the 2023 scaler.\n",
    "try:\n",
    "    # Predict on 2023 Test Data (already scaled by 2023 scaler)\n",
    "    rf_proba_on_2023_test = rf_2023_model.predict_proba(X_test_2023_orig_scaled)[:, 1]\n",
    "    print(f\"Random Forest (2023) predictions on 2023 test data generated. Shape: {rf_proba_on_2023_test.shape}\")\n",
    "    \n",
    "    # Predict on 2013 Test Data (needs to be scaled by 2023 scaler)\n",
    "    # Get the raw 2013 test data part from X_2013_common_raw_full using y_test_2013's index\n",
    "    X_test_2013_raw_for_2023_scaler = X_2013_common_raw_full.loc[y_test_2013.index]\n",
    "    # Transform using the 2023 scaler\n",
    "    X_test_2013_scaled_by_2023_scaler = scaler_2023.transform(X_test_2013_raw_for_2023_scaler)\n",
    "    # Convert back to DataFrame for consistency (optional, but good practice)\n",
    "    X_test_2013_scaled_by_2023_scaler = pd.DataFrame(X_test_2013_scaled_by_2023_scaler, columns=X_test_2013_scaled.columns)\n",
    "    rf_proba_on_2013_test = rf_2023_model.predict_proba(X_test_2013_scaled_by_2023_scaler)[:, 1]\n",
    "    print(f\"Random Forest (2023) predictions on 2013 test data (scaled by 2023 scaler) generated. Shape: {rf_proba_on_2013_test.shape}\")\n",
    "    print(\"\\nInsight: Random Forest (2023) has made predictions on both 2013 and 2023 data using its native scaling, allowing the meta-model to compare their relative strengths on different data characteristics.\")\n",
    "except Exception as e:\n",
    "    print(f\"Error while generating Random Forest predictions: {e}\")\n",
    "    exit()\n",
    "print(\"\\n\" + \"=\"*80 + \"\\n\")\n",
    "\n"
   ]
  },
  {
   "cell_type": "markdown",
   "id": "c4fbb418",
   "metadata": {},
   "source": [
    "Create Meta-Features (X_meta) and Meta-Target (y_meta)"
   ]
  },
  {
   "cell_type": "code",
   "execution_count": 16,
   "id": "7c9c7894",
   "metadata": {},
   "outputs": [
    {
     "name": "stdout",
     "output_type": "stream",
     "text": [
      "--- 2.4 Creating Meta-Features and Meta-Target ---\n",
      "Meta-features (X_meta) shape: (170688, 2)\n",
      "Meta-target (y_meta) shape: (170688,)\n",
      "\n",
      "Meta-target (y_meta) class distribution:\n",
      "0    0.666286\n",
      "1    0.333714\n",
      "Name: proportion, dtype: float64\n",
      "\n",
      "Insight: Predictions from base models generated and concatenated to form meta-features for the ensemble. The meta-target is the combined true labels of the individual test sets.\n",
      "\n",
      "================================================================================\n",
      "\n",
      "Meta-data saved to '..\\data\\meta_data_phase5.pkl'\n",
      "\n",
      "================================================================================\n",
      "\n"
     ]
    }
   ],
   "source": [
    "# 2.4 Create Meta-Features (X_meta) and Meta-Target (y_meta)\n",
    "print(\"--- 2.4 Creating Meta-Features and Meta-Target ---\")\n",
    "try:\n",
    "    # Create Meta-Features (X_meta) and Meta-Target (y_meta)\n",
    "    X_meta = pd.DataFrame({\n",
    "        'xgb_proba': np.concatenate([xgb_proba_on_2013_test, xgb_proba_on_2023_test]),\n",
    "        'rf_proba': np.concatenate([rf_proba_on_2013_test, rf_proba_on_2023_test])\n",
    "    })\n",
    "    y_meta = np.concatenate([y_test_2013, y_test_2023_orig])\n",
    "    \n",
    "    print(f\"Meta-features (X_meta) shape: {X_meta.shape}\")\n",
    "    print(f\"Meta-target (y_meta) shape: {y_meta.shape}\")\n",
    "    print(\"\\nMeta-target (y_meta) class distribution:\")\n",
    "    print(pd.Series(y_meta).value_counts(normalize=True))\n",
    "    print(\"\\nInsight: Predictions from base models generated and concatenated to form meta-features for the ensemble. The meta-target is the combined true labels of the individual test sets.\")\n",
    "except Exception as e:\n",
    "    print(f\"Error while creating meta-features and meta-target: {e}\")\n",
    "    exit()\n",
    "print(\"\\n\" + \"=\"*80 + \"\\n\")\n",
    "\n",
    "# Save meta-features and meta-target for reproducibility in case of kernel restart\n",
    "try:\n",
    "    joblib.dump(\n",
    "        {'X_meta': X_meta, 'y_meta': y_meta},\n",
    "        data_dir / 'meta_data_phase5.pkl'\n",
    "    )\n",
    "    print(f\"Meta-data saved to '{data_dir / 'meta_data_phase5.pkl'}'\")\n",
    "except Exception as e:\n",
    "    print(f\"Error saving meta-data: {e}\")\n",
    "    exit()\n",
    "print(\"\\n\" + \"=\"*80 + \"\\n\")\n",
    "\n"
   ]
  },
  {
   "cell_type": "markdown",
   "id": "a930b809",
   "metadata": {},
   "source": [
    "Print Confirmation"
   ]
  },
  {
   "cell_type": "code",
   "execution_count": 17,
   "id": "f724449d",
   "metadata": {},
   "outputs": [
    {
     "name": "stdout",
     "output_type": "stream",
     "text": [
      "--- Phase 5, Step 2: Generate Predictions for Meta-Model Complete ---\n",
      "\n",
      "================================================================================\n",
      "\n"
     ]
    }
   ],
   "source": [
    "# 2.5 Print Confirmation\n",
    "print(\"--- Phase 5, Step 2: Generate Predictions for Meta-Model Complete ---\")\n",
    "print(\"\\n\" + \"=\"*80 + \"\\n\")"
   ]
  },
  {
   "cell_type": "code",
   "execution_count": 18,
   "id": "50154dbd",
   "metadata": {},
   "outputs": [
    {
     "name": "stdout",
     "output_type": "stream",
     "text": [
      "--- Reloading Meta-Data (if kernel restarted) ---\n",
      "Meta-data loaded successfully.\n",
      "X_meta shape: (170688, 2), y_meta shape: (170688,)\n",
      "\n",
      "================================================================================\n",
      "\n"
     ]
    }
   ],
   "source": [
    "# --- Reload Meta-Data (if kernel restarted) ---\n",
    "print(\"--- Reloading Meta-Data (if kernel restarted) ---\")\n",
    "try:\n",
    "    data_dir = Path('../data')\n",
    "    meta_data = joblib.load(data_dir / 'meta_data_phase5.pkl')\n",
    "    X_meta = meta_data['X_meta']\n",
    "    y_meta = meta_data['y_meta']\n",
    "    print(\"Meta-data loaded successfully.\")\n",
    "    print(f\"X_meta shape: {X_meta.shape}, y_meta shape: {y_meta.shape}\")\n",
    "except FileNotFoundError:\n",
    "    print(f\"Error: 'meta_data_phase5.pkl' not found. Ensure Phase 5, Step 2 was completed and saved the file.\")\n",
    "    exit()\n",
    "except Exception as e:\n",
    "    print(f\"Error reloading meta-data: {e}\")\n",
    "    exit()\n",
    "print(\"\\n\" + \"=\"*80 + \"\\n\")"
   ]
  },
  {
   "cell_type": "markdown",
   "id": "5a764564",
   "metadata": {},
   "source": [
    "## Meta-Model Training"
   ]
  },
  {
   "cell_type": "code",
   "execution_count": 19,
   "id": "7e96734d",
   "metadata": {},
   "outputs": [
    {
     "name": "stdout",
     "output_type": "stream",
     "text": [
      "--- Phase 5, Step 3: Meta-Model Training ---\n"
     ]
    }
   ],
   "source": [
    "# --- Step 3: Meta-Model Training ---\n",
    "print(\"--- Phase 5, Step 3: Meta-Model Training ---\")"
   ]
  },
  {
   "cell_type": "markdown",
   "id": "82ad4554",
   "metadata": {},
   "source": [
    "Train-Test Split for Meta-Model"
   ]
  },
  {
   "cell_type": "code",
   "execution_count": 20,
   "id": "06851099",
   "metadata": {},
   "outputs": [
    {
     "name": "stdout",
     "output_type": "stream",
     "text": [
      "\n",
      "--- 3.1 Train-Test Split for Meta-Model ---\n",
      "Meta-train features shape: (136550, 2), target shape: (136550,)\n",
      "Meta-test features shape: (34138, 2), target shape: (34138,)\n",
      "\n",
      "Meta-train class distribution:\n",
      " 0    0.666283\n",
      "1    0.333717\n",
      "Name: proportion, dtype: float64\n",
      "\n",
      "Meta-test class distribution:\n",
      " 0    0.666296\n",
      "1    0.333704\n",
      "Name: proportion, dtype: float64\n",
      "\n",
      "Insight: Meta-data successfully split, maintaining class distribution.\n",
      "\n",
      "================================================================================\n",
      "\n"
     ]
    }
   ],
   "source": [
    "# 3.1 Train-Test Split for Meta-Model\n",
    "print(\"\\n--- 3.1 Train-Test Split for Meta-Model ---\")\n",
    "# Splitting the meta-data into training and testing sets for the meta-model\n",
    "X_meta_train, X_meta_test, y_meta_train, y_meta_test = train_test_split(\n",
    "    X_meta, y_meta, test_size=0.20, random_state=RANDOM_STATE, stratify=y_meta\n",
    ")\n",
    "print(f\"Meta-train features shape: {X_meta_train.shape}, target shape: {y_meta_train.shape}\")\n",
    "print(f\"Meta-test features shape: {X_meta_test.shape}, target shape: {y_meta_test.shape}\")\n",
    "print(\"\\nMeta-train class distribution:\\n\", pd.Series(y_meta_train).value_counts(normalize=True))\n",
    "print(\"\\nMeta-test class distribution:\\n\", pd.Series(y_meta_test).value_counts(normalize=True))\n",
    "print(\"\\nInsight: Meta-data successfully split, maintaining class distribution.\")\n",
    "print(\"\\n\" + \"=\"*80 + \"\\n\")"
   ]
  },
  {
   "cell_type": "markdown",
   "id": "8a9dcc66",
   "metadata": {},
   "source": [
    "Train Meta-Model"
   ]
  },
  {
   "cell_type": "code",
   "execution_count": 21,
   "id": "ed7bf903",
   "metadata": {},
   "outputs": [
    {
     "name": "stdout",
     "output_type": "stream",
     "text": [
      "--- 3.2 Training Meta-Model (Logistic Regression) ---\n",
      "Meta-model (Logistic Regression) trained successfully.\n",
      "\n",
      "Meta-model Coefficients:\n",
      "xgb_proba_coefficient: 13.5576\n",
      "rf_proba_coefficient: 24.6404\n",
      "Intercept: -19.0234\n",
      "\n",
      "Insight: The coefficients indicate how the meta-model weights the predictions from the XGBoost and Random Forest base models.\n",
      "\n",
      "================================================================================\n",
      "\n"
     ]
    }
   ],
   "source": [
    "# 3.2 Train Meta-Model\n",
    "print(\"--- 3.2 Training Meta-Model (Logistic Regression) ---\")\n",
    "# Instantiate Logistic Regression as the meta-model\n",
    "# Using class_weight='balanced' as y_meta is moderately imbalanced (~33.37% fraud)\n",
    "meta_model = LogisticRegression(solver='liblinear', class_weight='balanced', random_state=RANDOM_STATE)\n",
    "meta_model.fit(X_meta_train, y_meta_train)\n",
    "print(\"Meta-model (Logistic Regression) trained successfully.\")\n",
    "# Print meta-model coefficients for interpretability\n",
    "print(\"\\nMeta-model Coefficients:\")\n",
    "print(f\"xgb_proba_coefficient: {meta_model.coef_[0][0]:.4f}\")\n",
    "print(f\"rf_proba_coefficient: {meta_model.coef_[0][1]:.4f}\")\n",
    "print(f\"Intercept: {meta_model.intercept_[0]:.4f}\")\n",
    "print(\"\\nInsight: The coefficients indicate how the meta-model weights the predictions from the XGBoost and Random Forest base models.\")\n",
    "print(\"\\n\" + \"=\"*80 + \"\\n\")"
   ]
  },
  {
   "cell_type": "markdown",
   "id": "6ff499b7",
   "metadata": {},
   "source": [
    "Save Trained Meta-Model"
   ]
  },
  {
   "cell_type": "code",
   "execution_count": 22,
   "id": "56482632",
   "metadata": {},
   "outputs": [
    {
     "name": "stdout",
     "output_type": "stream",
     "text": [
      "--- 3.3 Saving Trained Meta-Model ---\n",
      "Meta-model saved to '..\\data\\meta_model_phase5.pkl'\n",
      "\n",
      "================================================================================\n",
      "\n"
     ]
    }
   ],
   "source": [
    "# 3.3 Save Trained Meta-Model\n",
    "# Added to ensure the meta-model is saved for reproducibility\n",
    "print(\"--- 3.3 Saving Trained Meta-Model ---\")\n",
    "try:\n",
    "    joblib.dump(meta_model, data_dir / 'meta_model_phase5.pkl')\n",
    "    print(f\"Meta-model saved to '{data_dir / 'meta_model_phase5.pkl'}'\")\n",
    "except Exception as e:\n",
    "    print(f\"Error saving meta-model: {e}\")\n",
    "    exit()\n",
    "print(\"\\n\" + \"=\"*80 + \"\\n\")"
   ]
  },
  {
   "cell_type": "markdown",
   "id": "e090a787",
   "metadata": {},
   "source": [
    "## Evaluate Ensemble Model"
   ]
  },
  {
   "cell_type": "code",
   "execution_count": null,
   "id": "af8c1ea5",
   "metadata": {},
   "outputs": [],
   "source": [
    "# --- Step 4: Evaluate Ensemble Model ---\n",
    "print(\"--- Phase 5, Step 4: Evaluate Ensemble Model ---\")"
   ]
  },
  {
   "cell_type": "markdown",
   "id": "79689ea9",
   "metadata": {},
   "source": [
    "Evaluate Meta-Model"
   ]
  },
  {
   "cell_type": "code",
   "execution_count": 23,
   "id": "9a82d22a",
   "metadata": {},
   "outputs": [
    {
     "name": "stdout",
     "output_type": "stream",
     "text": [
      "\n",
      "--- 4.1 Evaluating Ensemble Model (Meta-Model) ---\n",
      "--- Evaluating Ensemble (XGBoost + RF) (Meta-Model Evaluation) ---\n",
      "\n",
      "Classification Report:\n",
      "              precision    recall  f1-score   support\n",
      "\n",
      "           0       1.00      1.00      1.00     22746\n",
      "           1       0.99      1.00      1.00     11392\n",
      "\n",
      "    accuracy                           1.00     34138\n",
      "   macro avg       1.00      1.00      1.00     34138\n",
      "weighted avg       1.00      1.00      1.00     34138\n",
      "\n",
      "\n",
      "Confusion Matrix:\n",
      "[[22675    71]\n",
      " [   10 11382]]\n"
     ]
    },
    {
     "data": {
      "image/png": "[encoded data removed]",
      "text/plain": [
       "<Figure size 600x500 with 1 Axes>"
      ]
     },
     "metadata": {},
     "output_type": "display_data"
    },
    {
     "name": "stdout",
     "output_type": "stream",
     "text": [
      "\n",
      "ROC AUC Score: 0.9998\n",
      "Precision-Recall AUC (AUPRC): 0.9990\n"
     ]
    },
    {
     "data": {
      "image/png": "[encoded data removed]",
      "text/plain": [
       "<Figure size 800x600 with 1 Axes>"
      ]
     },
     "metadata": {},
     "output_type": "display_data"
    },
    {
     "name": "stdout",
     "output_type": "stream",
     "text": [
      "\n",
      "================================================================================\n",
      "\n",
      "\n",
      "================================================================================\n",
      "\n"
     ]
    }
   ],
   "source": [
    "# 4.1 Evaluate Meta-Model\n",
    "print(\"\\n--- 4.1 Evaluating Ensemble Model (Meta-Model) ---\")\n",
    "# Use the evaluate_model function on the meta-test set\n",
    "evaluate_model(\n",
    "    meta_model,\n",
    "    X_meta_test,\n",
    "    y_meta_test,\n",
    "    'Ensemble (XGBoost + RF)',\n",
    "    'Meta-Model Evaluation',\n",
    "    ensemble_results  # Store results in the ensemble_results list\n",
    ")\n",
    "print(\"\\n\" + \"=\"*80 + \"\\n\")"
   ]
  },
  {
   "cell_type": "markdown",
   "id": "ce8206ab",
   "metadata": {},
   "source": [
    "Comparative Analysis"
   ]
  },
  {
   "cell_type": "code",
   "execution_count": 24,
   "id": "e20114bb",
   "metadata": {},
   "outputs": [
    {
     "name": "stdout",
     "output_type": "stream",
     "text": [
      "--- Phase 5, Step 4.2: Comparative Analysis with Previous Phases ---\n",
      "Phase 3 results loaded successfully. Shape: (1, 11)\n",
      "Phase 4 results loaded successfully. Shape: (3, 11)\n"
     ]
    }
   ],
   "source": [
    "# 4.2 Comparative Analysis\n",
    "print(\"--- Phase 5, Step 4.2: Comparative Analysis with Previous Phases ---\")\n",
    "# Load results from previous phases\n",
    "try:\n",
    "    # From Phase 3 (Concept Drift) - Confirmed 'phase3_results_2013_test.pkl' exists and its content\n",
    "    concept_drift_results_df = pd.DataFrame(joblib.load(data_dir / 'phase3_results_2013_test.pkl'))\n",
    "    print(f\"Phase 3 results loaded successfully. Shape: {concept_drift_results_df.shape}\")\n",
    "except FileNotFoundError:\n",
    "    print(f\"Error: 'phase3_results_2013_test.pkl' not found. Cannot load Phase 3 results.\")\n",
    "    concept_drift_results_df = pd.DataFrame()  # Placeholder to avoid errors\n",
    "except Exception as e:\n",
    "    print(f\"Error loading Phase 3 results: {e}\")\n",
    "    concept_drift_results_df = pd.DataFrame()\n",
    "\n",
    "try:\n",
    "    # From Phase 4 (Combined Training) - Assuming it was saved as 'phase4_results_combined.pkl'\n",
    "    combined_training_results_df = pd.DataFrame(joblib.load(data_dir / 'phase4_results_combined.pkl'))\n",
    "    print(f\"Phase 4 results loaded successfully. Shape: {combined_training_results_df.shape}\")\n",
    "except FileNotFoundError:\n",
    "    print(f\"Error: 'phase4_results_combined.pkl' not found. Cannot load Phase 4 results. Please ensure it was saved at the end of Phase 4.\")\n",
    "    combined_training_results_df = pd.DataFrame()  # Placeholder\n",
    "except Exception as e:\n",
    "    print(f\"Error loading Phase 4 results: {e}\")\n",
    "    combined_training_results_df = pd.DataFrame()\n",
    "\n"
   ]
  },
  {
   "cell_type": "code",
   "execution_count": 25,
   "id": "f25cc2d4",
   "metadata": {},
   "outputs": [],
   "source": [
    "# Compile all relevant results into a single DataFrame for comparison\n",
    "final_comparison_components = []\n",
    "# 1. Best model from Phase 1 (XGBoost 2013, Trained on 2013, Tested on 2013)\n",
    "if not concept_drift_results_df.empty:\n",
    "    phase1_best = concept_drift_results_df[concept_drift_results_df['Strategy'] == 'Trained on 2013, Tested on 2013'].copy()\n",
    "    if not phase1_best.empty:\n",
    "        final_comparison_components.append(phase1_best)\n",
    "# 2. Best model from Phase 2 (Random Forest 2023, Trained on 2023, Tested on 2023 (Ideal))\n",
    "phase2_best = concept_drift_results_df[concept_drift_results_df['Strategy'] == 'Trained on 2023, Tested on 2023 (Ideal)'].copy()\n",
    "if not phase2_best.empty:\n",
    "    final_comparison_components.append(phase2_best)\n",
    "# 3. The concept drift scenario (XGBoost 2013, Trained on 2013, Tested on 2023 (Drift))\n",
    "phase3_drift = concept_drift_results_df[concept_drift_results_df['Strategy'] == 'Trained on 2013, Tested on 2023 (Concept Drift)'].copy()\n",
    "if not phase3_drift.empty:\n",
    "    final_comparison_components.append(phase3_drift)\n",
    "# 4. The best model from Phase 4 (XGBoost Combined, Class Weighting)\n",
    "if not combined_training_results_df.empty:\n",
    "    # Sort by AUPRC and pick the top one, as confirmed this is the best combined model\n",
    "    phase4_best = combined_training_results_df.sort_values(by='AUPRC', ascending=False).iloc[[0]].copy()\n",
    "    if not phase4_best.empty:\n",
    "        final_comparison_components.append(phase4_best)\n",
    "# 5. The ensemble model from this Phase 5 (which is the current 'ensemble_results' list)\n",
    "# Ensure 'ensemble_results' is populated from the previous evaluate_model call (4.1)\n",
    "ensemble_df = pd.DataFrame(ensemble_results).copy()\n",
    "if not ensemble_df.empty:\n",
    "    final_comparison_components.append(ensemble_df)\n",
    "\n"
   ]
  },
  {
   "cell_type": "code",
   "execution_count": 26,
   "id": "cae45488",
   "metadata": {},
   "outputs": [
    {
     "name": "stdout",
     "output_type": "stream",
     "text": [
      "\n",
      "--- Consolidated Performance Comparison Across All Phases (Sorted by AUPRC) ---\n",
      "                     Model                         Strategy  Accuracy  \\\n",
      "1       XGBoost (Combined)                  Class Weighting    0.9996   \n",
      "2  Ensemble (XGBoost + RF)            Meta-Model Evaluation    0.9976   \n",
      "0           XGBoost (2013)  Trained on 2013, Tested on 2013    0.9995   \n",
      "\n",
      "   Precision (Fraud)  Recall (Fraud)  F1-Score (Fraud)   AUPRC  ROC AUC  \\\n",
      "1             0.9990          0.9997            0.9993  1.0000   1.0000   \n",
      "2             0.9938          0.9991            0.9965  0.9990   0.9998   \n",
      "0             0.8830          0.8469            0.8646  0.8811   0.9691   \n",
      "\n",
      "   True Positives (TP)  False Positives (FP)  False Negatives (FN)  \n",
      "1                56943                    56                    19  \n",
      "2                11382                    71                    10  \n",
      "0                   83                    11                    15  \n",
      "\n",
      "Insight: This table provides the ultimate comparison, allowing us to assess the effectiveness of different strategies in handling data heterogeneity and concept drift.\n",
      "\n",
      "================================================================================\n",
      "\n"
     ]
    }
   ],
   "source": [
    "# Concatenate all for final comparison\n",
    "if final_comparison_components:\n",
    "    final_comparison_df = pd.concat(final_comparison_components, ignore_index=True)\n",
    "else:\n",
    "    final_comparison_df = pd.DataFrame()  # Empty if no components loaded\n",
    "\n",
    "# Sort by AUPRC for final presentation\n",
    "final_comparison_df_sorted = final_comparison_df.sort_values(by='AUPRC', ascending=False)\n",
    "print(\"\\n--- Consolidated Performance Comparison Across All Phases (Sorted by AUPRC) ---\")\n",
    "if not final_comparison_df_sorted.empty:\n",
    "    print(final_comparison_df_sorted[['Model', 'Strategy', 'Accuracy', 'Precision (Fraud)', 'Recall (Fraud)', 'F1-Score (Fraud)', 'AUPRC', 'ROC AUC', 'True Positives (TP)', 'False Positives (FP)', 'False Negatives (FN)']].round(4))\n",
    "else:\n",
    "    print(\"No comparison data to display. Please check if previous phase results files were loaded correctly.\")\n",
    "print(\"\\nInsight: This table provides the ultimate comparison, allowing us to assess the effectiveness of different strategies in handling data heterogeneity and concept drift.\")\n",
    "print(\"\\n\" + \"=\"*80 + \"\\n\")"
   ]
  },
  {
   "cell_type": "markdown",
   "id": "8d69a1c8",
   "metadata": {},
   "source": [
    "Discussion of Ensemble Model Performance"
   ]
  },
  {
   "cell_type": "code",
   "execution_count": null,
   "id": "f01b8b2a",
   "metadata": {},
   "outputs": [],
   "source": [
    "# 4.3 Discussion of Ensemble Model Performance\n",
    "print(\"--- Phase 5, Step 4.3: Discussion of Ensemble Model Performance ---\")\n",
    "print(\"\"\"\n",
    "Discussion:\n",
    "\n",
    "1. **Performance Comparison**:\n",
    "   The ensemble model (AUPRC: 0.9990, ROC AUC: 0.9998) performs exceptionally well, slightly below the XGBoost Combined model (AUPRC: 1.0000, ROC AUC: 1.0000) but significantly better than the XGBoost 2013 model (AUPRC: 0.8811, ROC AUC: 0.9691). The ensemble's high recall (0.9991) and F1-score (0.9965) for fraud detection, with only 10 false negatives, indicate it effectively leverages the strengths of both base models. However, the near-perfect metrics of the XGBoost Combined model suggest it may benefit from a larger or differently composed test set (56943 TP vs. 11382 TP for the ensemble).\n",
    "\n",
    "2. **Handling Heterogeneity**:\n",
    "   The 2013 and 2023 datasets exhibit heterogeneity due to differing class distributions (2013: ~0.172% fraud; 2023: ~50% fraud) and concept drift. The ensemble model mitigates this by combining XGBoost (trained on imbalanced 2013 data) and Random Forest (trained on balanced 2023 data) predictions, with the meta-model weighting Random Forest more heavily (coefficient: 24.6404 vs. 13.5576 for XGBoost). This approach helps address drift, though the XGBoost Combined model's superior performance suggests combined training might handle heterogeneity more uniformly.\n",
    "\n",
    "3. **Robustness and Generalization**:\n",
    "   The ensemble's robustness is enhanced by training on meta-features from both datasets, achieving near-perfect metrics on the meta-test set. However, the XGBoost Combined model's perfect scores on a larger test set raise questions about generalization. The ensemble's lower TP count (11382 vs. 56943) suggests it was evaluated on a subset, potentially limiting its apparent robustness compared to Phase 4. Testing on additional real-world data could validate its generalization.\n",
    "\n",
    "4. **Complexity vs. Performance Trade-offs**:\n",
    "   The ensemble introduces complexity with two base models and a meta-model, increasing computational cost. Its performance gain over XGBoost 2013 is substantial (AUPRC: 0.9990 vs. 0.8811), justifying the complexity. However, its slight edge over XGBoost Combined (AUPRC: 1.0000) may not warrant the added overhead, especially if the latter uses a more representative test set. Deployment should consider this trade-off.\n",
    "\n",
    "5. **Impact of 2023 Dataset's Synthetic Nature**:\n",
    "   The 2023 dataset's synthetic nature likely boosts the Random Forest model's performance, influencing the meta-model's higher weighting of its predictions. This could inflate the ensemble's metrics, reducing generalization to real-world data with noise. The XGBoost 2013 model's lower performance reflects real-world imbalance, suggesting the ensemble balances synthetic and real data but may overfit to 2023's characteristics. Further validation with non-synthetic data is recommended.\n",
    "\"\"\")\n",
    "print(\"\\nInsight: The ensemble model excels in fraud detection but may not surpass the simplicity and performance of the XGBoost Combined approach, highlighting the need for careful test set design and real-world validation.\")\n",
    "print(\"\\n\" + \"=\"*80 + \"\\n\")"
   ]
  },
  {
   "cell_type": "markdown",
   "id": "d85b51f3",
   "metadata": {},
   "source": [
    "Confirmation of Comparative Analysis"
   ]
  },
  {
   "cell_type": "code",
   "execution_count": null,
   "id": "5d107d88",
   "metadata": {},
   "outputs": [],
   "source": [
    "# 4.4 Confirmation of Comparative Analysis\n",
    "print(\"--- Phase 5, Step 4.4: Confirmation of Comparative Analysis ---\")\n",
    "print(\"\\nConfirmation:\")\n",
    "print(\"The comparative analysis from Step 4.2 has been completed, comparing models across Phases 1, 4, and 5.\")\n",
    "print(\"Key findings include:\")\n",
    "print(\"- XGBoost (2013) (Phase 1): AUPRC = 0.8811, indicating moderate performance on 2013 data.\")\n",
    "print(\"- XGBoost (Combined) (Phase 4): AUPRC = 1.0000, showing exceptional performance on combined data.\")\n",
    "print(\"- Ensemble (XGBoost + RF) (Phase 5): AUPRC = 0.9990, demonstrating near-perfect performance.\")\n",
    "print(\"\\nThe analysis highlights the ensemble's effectiveness, though the XGBoost (Combined) model slightly edges out in AUPRC. Proceeding to finalize the model selection and interpretation.\")\n",
    "print(\"\\n\" + \"=\"*80 + \"\\n\")"
   ]
  },
  {
   "cell_type": "markdown",
   "id": "37251639",
   "metadata": {},
   "source": [
    "## Final Model Selection & Interpretation (for Ensemble)"
   ]
  },
  {
   "cell_type": "code",
   "execution_count": null,
   "id": "18ce351b",
   "metadata": {},
   "outputs": [],
   "source": [
    "# 5. Final Model Selection & Interpretation (for Ensemble)\n",
    "print(\"--- Phase 5, Step 5: Final Model Selection & Interpretation (for Ensemble) ---\")\n",
    "\n"
   ]
  },
  {
   "cell_type": "markdown",
   "id": "611b5671",
   "metadata": {},
   "source": [
    "Final Recommendation (Based on Comparative Analysis from 4.2)"
   ]
  },
  {
   "cell_type": "code",
   "execution_count": null,
   "id": "786d3abe",
   "metadata": {},
   "outputs": [],
   "source": [
    "# 5.1 Final Recommendation (Based on Comparative Analysis from 4.2)\n",
    "print(\"\\n--- 5.1 Final Recommendation ---\")\n",
    "print(\"Based on the comprehensive comparative analysis across all phases:\")\n",
    "print(\"The **XGBoost (Combined) model with Class Weighting** emerged as the top performer (AUPRC = 1.0000).\")\n",
    "print(\"The **Ensemble (XGBoost + RF) model** also achieved near-perfect performance (AUPRC = 0.9990).\")\n",
    "print(\"\\nWhile the Ensemble model's AUPRC is slightly lower than the single XGBoost (Combined) model (1.0000 vs 0.9990), both offer exceptional fraud detection capability.\")\n",
    "print(\"\\nConsidering complexity vs. performance:\")\n",
    "print(\"- The **XGBoost (Combined)** model is generally simpler to deploy and maintain as a single model, and it achieved perfect discrimination for this dataset. This suggests that for this specific problem (with the highly separable 2023 data dominating the learning), a single robust model on combined data is sufficient and highly effective.\")\n",
    "print(\"- The **Ensemble model** provides a more sophisticated approach, demonstrating the ability to combine signals from models specialized on different data types (imbalanced historical vs. balanced contemporary). While slightly more complex, it offers theoretical robustness against future, diverse data characteristics, and its performance is still outstanding.\")\n",
    "print(\"\\n**Recommendation for this project's context:** For practical deployment given these results, the **XGBoost (Combined) model** (from Phase 4) is arguably the most straightforward and equally effective choice due to its slightly higher AUPRC and simpler architecture. However, the **Ensemble model** provides a valuable demonstration of advanced ML concepts and robustness against data heterogeneity, making it highly valuable for a portfolio piece.\")\n",
    "print(\"\\n\" + \"=\"*80 + \"\\n\")\n",
    "\n"
   ]
  },
  {
   "cell_type": "markdown",
   "id": "e3d7b73c",
   "metadata": {},
   "source": [
    "Interpret Meta-Model Coefficients"
   ]
  },
  {
   "cell_type": "code",
   "execution_count": 27,
   "id": "5843e5fc",
   "metadata": {},
   "outputs": [
    {
     "name": "stdout",
     "output_type": "stream",
     "text": [
      "--- 5.2 Interpret Meta-Model Coefficients (Logistic Regression) ---\n",
      "Meta-model Coefficients (Weights for base model predictions):\n",
      "Weight for XGBoost (2013) probabilities: 13.5576\n",
      "Weight for Random Forest (2023) probabilities: 24.6404\n",
      "Intercept: -19.0234\n",
      "\n",
      "Insight:\n",
      "- The meta-model assigns a higher positive weight (24.6404) to the **Random Forest (2023) base model's predictions** compared to the XGBoost (2013) base model's predictions (13.5576).\n",
      "- This indicates that the ensemble model places more trust in the signals coming from the Random Forest model, which was trained on the highly separable 2023 data.\n",
      "- The large negative intercept (-19.0234) suggests a strong bias towards predicting the negative class (legitimate) when base model probabilities are low, which is common with class weighting used in meta-model training and the underlying positive class ratio.\n",
      "\n",
      "================================================================================\n",
      "\n"
     ]
    }
   ],
   "source": [
    "# 5.2 Interpret Meta-Model Coefficients\n",
    "print(\"--- 5.2 Interpret Meta-Model Coefficients (Logistic Regression) ---\")\n",
    "# Check if the meta_model is LogisticRegression\n",
    "if isinstance(meta_model, LogisticRegression):\n",
    "    print(\"Meta-model Coefficients (Weights for base model predictions):\")\n",
    "    # Coefficients correspond to the order of features in X_meta: 'xgb_proba', 'rf_proba'\n",
    "    print(f\"Weight for XGBoost (2013) probabilities: {meta_model.coef_[0][0]:.4f}\")\n",
    "    print(f\"Weight for Random Forest (2023) probabilities: {meta_model.coef_[0][1]:.4f}\")\n",
    "    print(f\"Intercept: {meta_model.intercept_[0]:.4f}\")\n",
    "    print(\"\\nInsight:\")\n",
    "    print(f\"- The meta-model assigns a higher positive weight ({meta_model.coef_[0][1]:.4f}) to the **Random Forest (2023) base model's predictions** compared to the XGBoost (2013) base model's predictions ({meta_model.coef_[0][0]:.4f}).\")\n",
    "    print(\"- This indicates that the ensemble model places more trust in the signals coming from the Random Forest model, which was trained on the highly separable 2023 data.\")\n",
    "    print(f\"- The large negative intercept ({meta_model.intercept_[0]:.4f}) suggests a strong bias towards predicting the negative class (legitimate) when base model probabilities are low, which is common with class weighting used in meta-model training and the underlying positive class ratio.\")\n",
    "else:\n",
    "    print(f\"Meta-model is {type(meta_model).__name__}, coefficients interpretation not directly applicable in the same way as Logistic Regression.\")\n",
    "print(\"\\n\" + \"=\"*80 + \"\\n\")\n",
    "\n"
   ]
  },
  {
   "cell_type": "markdown",
   "id": "973e7b93",
   "metadata": {},
   "source": [
    "Save Ensemble Model"
   ]
  },
  {
   "cell_type": "code",
   "execution_count": 28,
   "id": "fdf7410e",
   "metadata": {},
   "outputs": [
    {
     "name": "stdout",
     "output_type": "stream",
     "text": [
      "--- 5.3 Saving Ensemble Model (Meta-Model) ---\n",
      "Ensemble meta-model saved successfully to '..\\data\\best_model_ensemble.pkl'\n",
      "\n",
      "================================================================================\n",
      "\n",
      "--- Phase 5: Dual-Dataset Approach - Ensemble Learning / Meta-Learning Complete ---\n"
     ]
    }
   ],
   "source": [
    "# 5.3 Save Ensemble Model\n",
    "print(\"--- 5.3 Saving Ensemble Model (Meta-Model) ---\")\n",
    "try:\n",
    "    output_model_file = data_dir / 'best_model_ensemble.pkl'\n",
    "    joblib.dump(meta_model, output_model_file)\n",
    "    print(f\"Ensemble meta-model saved successfully to '{output_model_file}'\")\n",
    "except Exception as e:\n",
    "    print(f\"Error saving ensemble model: {e}\")\n",
    "    exit()\n",
    "print(\"\\n\" + \"=\"*80 + \"\\n\")\n",
    "\n",
    "print(\"--- Phase 5: Dual-Dataset Approach - Ensemble Learning / Meta-Learning Complete ---\")"
   ]
  }
 ],
 "metadata": {
  "kernelspec": {
   "display_name": "Python 3",
   "language": "python",
   "name": "python3"
  },
  "language_info": {
   "codemirror_mode": {
    "name": "ipython",
    "version": 3
   },
   "file_extension": ".py",
   "mimetype": "text/x-python",
   "name": "python",
   "nbconvert_exporter": "python",
   "pygments_lexer": "ipython3",
   "version": "3.13.3"
  }
 },
 "nbformat": 4,
 "nbformat_minor": 5
}
